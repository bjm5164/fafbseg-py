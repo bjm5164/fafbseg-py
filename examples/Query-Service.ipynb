{
 "cells": [
  {
   "cell_type": "markdown",
   "metadata": {},
   "source": [
    "# Query Service\n",
    "Query automatic synaptic partner predictions and integrate with CATMAID"
   ]
  },
  {
   "cell_type": "markdown",
   "metadata": {},
   "source": [
    "## Queries\n",
    "\n",
    "  1. get all connections between a given pair of skeletons,\n",
    "  2. get all upstream connections for a given skeleton\n",
    "  3. get all downstream connections for a given skeleton\n",
    "  4. get all upstream/downstream connections for a given skeleton"
   ]
  },
  {
   "cell_type": "markdown",
   "metadata": {},
   "source": [
    "## Imports"
   ]
  },
  {
   "cell_type": "code",
   "execution_count": 7,
   "metadata": {},
   "outputs": [],
   "source": [
    "# pip install git+git://github.com/schlegelp/pymaid@master\n",
    "import pymaid"
   ]
  },
  {
   "cell_type": "markdown",
   "metadata": {},
   "source": [
    "## Procedure\n",
    "\n",
    "* Get skeleton from CATMAID\n",
    "* Look up segmentation IDs for all skeleton nodes from FAFB-FFN segmentation using CloudVolumeServer / fafbseg-py\n",
    "* Retrieve all synaptic links for the set of segmentationIDs (from a local sqlite database with the prepopulated lookups from synaptic link to segmentation ID)\n",
    "* Associate the synaptic links with the the corresponding skeleton\n",
    "* Discard synaptic links that stem from split-away parts of segments with false mergers\n",
    "* Push the data to CATMAID using PyMAID"
   ]
  },
  {
   "cell_type": "code",
   "execution_count": null,
   "metadata": {},
   "outputs": [],
   "source": []
  }
 ],
 "metadata": {
  "kernelspec": {
   "display_name": "Python 3",
   "language": "python",
   "name": "python3"
  },
  "language_info": {
   "codemirror_mode": {
    "name": "ipython",
    "version": 3
   },
   "file_extension": ".py",
   "mimetype": "text/x-python",
   "name": "python",
   "nbconvert_exporter": "python",
   "pygments_lexer": "ipython3",
   "version": "3.6.7"
  }
 },
 "nbformat": 4,
 "nbformat_minor": 2
}
