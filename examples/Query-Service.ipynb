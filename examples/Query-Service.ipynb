{
 "cells": [
  {
   "cell_type": "markdown",
   "metadata": {},
   "source": [
    "# Query Service\n",
    "Query automatic synaptic partner predictions and integrate with CATMAID\n",
    "\n",
    "October 2019; Stephan Gerhard, Julia Buhmann, Philipp Schlegel, Jan Funke"
   ]
  },
  {
   "cell_type": "markdown",
   "metadata": {},
   "source": [
    "## Queries\n",
    "\n",
    "  1. get all connections between a given pair of skeletons,\n",
    "  2. get all upstream connections for a given skeleton\n",
    "  3. get all downstream connections for a given skeleton\n",
    "  4. get all upstream/downstream connections for a given skeleton"
   ]
  },
  {
   "cell_type": "markdown",
   "metadata": {},
   "source": [
    "## Imports"
   ]
  },
  {
   "cell_type": "code",
   "execution_count": null,
   "metadata": {},
   "outputs": [],
   "source": [
    "# pip install git+git://github.com/schlegelp/pymaid@master\n",
    "import pymaid\n",
    "\n",
    "# https://github.com/flyconnectome/CloudVolumeServer/\n",
    "\n",
    "import requests"
   ]
  },
  {
   "cell_type": "markdown",
   "metadata": {},
   "source": [
    "## Configuration"
   ]
  },
  {
   "cell_type": "code",
   "execution_count": null,
   "metadata": {},
   "outputs": [],
   "source": [
    "# Source CATMAID instance and project to retrieve skeletons from\n",
    "source_catmaid_url = ''\n",
    "source_catmaid_project_id = ''\n",
    "source_catmaid_http_user = ''\n",
    "source_catmaid_http_password = ''\n",
    "source_catmaid_access_token = ''\n",
    "\n",
    "# Set of neurons to get from the source project by skeleton ids\n",
    "source_skeleton_ids = [123]\n",
    "\n",
    "# Target CATMAID instance and project to push skeletons with synapses to\n",
    "target_catmaid_url = ''\n",
    "target_catmaid_project_id = ''\n",
    "target_catmaid_http_user = ''\n",
    "target_catmaid_http_password = ''\n",
    "target_catmaid_access_token = ''\n",
    "\n",
    "# CloudVolume Server URL\n",
    "cloud_volume_server_url = ''"
   ]
  },
  {
   "cell_type": "code",
   "execution_count": null,
   "metadata": {},
   "outputs": [],
   "source": [
    "source_catmaid = pymaid.CatmaidInstance(\n",
    "                            source_catmaid_url,\n",
    "                            source_catmaid_http_user,\n",
    "                            source_catmaid_http_password,\n",
    "                            source_catmaid_access_token)\n",
    "\n",
    "target_catmaid = pymaid.CatmaidInstance(\n",
    "                            target_catmaid_url,\n",
    "                            target_catmaid_http_user,\n",
    "                            target_catmaid_http_password,\n",
    "                            target_catmaid_access_token)"
   ]
  },
  {
   "cell_type": "markdown",
   "metadata": {},
   "source": [
    "### Get skeletons from CATMAID"
   ]
  },
  {
   "cell_type": "code",
   "execution_count": null,
   "metadata": {},
   "outputs": [],
   "source": [
    "neuron_list = pymaid.get_neuron ( map(str,source_skeletonids) )"
   ]
  },
  {
   "cell_type": "markdown",
   "metadata": {},
   "source": [
    "### Look up segmentation IDs for skeletons\n",
    "for all skeleton nodes, look up segmentation ID using CloudVolumeServer API\n",
    "\n",
    "@schlegelp: Would you do here something differently?"
   ]
  },
  {
   "cell_type": "code",
   "execution_count": null,
   "metadata": {},
   "outputs": [],
   "source": [
    "# convert neuron_list coordinates into list of list\n",
    "\n",
    "# example:\n",
    "#coords = [[58695, 28631,   696],\n",
    "#          [58688, 28632,   691],\n",
    "#          [58691, 28635,   698]]\n",
    "\n",
    "resp = requests.post(cloud_volume_server_url, json=coords)\n",
    "\n",
    "print('Segment IDs:', resp.json())"
   ]
  },
  {
   "cell_type": "code",
   "execution_count": null,
   "metadata": {},
   "outputs": [],
   "source": []
  },
  {
   "cell_type": "markdown",
   "metadata": {},
   "source": [
    "### Retrieve all synaptic links for the set of segmentationIDs\n",
    "\n",
    "@juliab: Can one get all the relevant synaptic links for a set of skeletons on-the-fly, and only do the segmentID lookup for those, or is everything needed? If everything is needed, do you have the output segmentation ID for all pre/post locations for all links?\n",
    "\n",
    "Alternative: precomputed, e.g. from a local sqlite database with the prepopulated lookups from synaptic link to segmentation IDs"
   ]
  },
  {
   "cell_type": "code",
   "execution_count": null,
   "metadata": {},
   "outputs": [],
   "source": []
  },
  {
   "cell_type": "markdown",
   "metadata": {},
   "source": [
    "### Associate the synaptic links with the the corresponding skeleton\n",
    "\n",
    "At this point, we'd have the set of skeleton (skeleton nodes) and synaptic links (pre/post locations) to do the matching based on matching IDs"
   ]
  },
  {
   "cell_type": "code",
   "execution_count": null,
   "metadata": {},
   "outputs": [],
   "source": [
    "# TO EXTRACT from exiting code"
   ]
  },
  {
   "cell_type": "code",
   "execution_count": null,
   "metadata": {},
   "outputs": [],
   "source": []
  },
  {
   "cell_type": "markdown",
   "metadata": {},
   "source": [
    "### Filter synaptic links\n",
    "\n",
    "Possible filtering options:\n",
    "1) Filter same ID (if pre and postsynaptic site land in the same segment / are mapped onto the same skeleton)\n",
    "2) Filter synapses that have the same underlying connectivity and that are in close distance (duplicated detection)\n",
    "3) Discard synaptic links that stem from split-away parts of segments with false mergers\n",
    "\n",
    "@juliab: Would it make sense to filter some of these beforehand instead of on-the-fly?"
   ]
  },
  {
   "cell_type": "code",
   "execution_count": null,
   "metadata": {},
   "outputs": [],
   "source": []
  },
  {
   "cell_type": "markdown",
   "metadata": {},
   "source": [
    "### Push the skeleton data with synapses to CATMAID using PyMAID\n",
    "@schlegelp: How to do it with pyMaid?"
   ]
  },
  {
   "cell_type": "code",
   "execution_count": null,
   "metadata": {},
   "outputs": [],
   "source": []
  },
  {
   "cell_type": "code",
   "execution_count": null,
   "metadata": {},
   "outputs": [],
   "source": []
  }
 ],
 "metadata": {
  "kernelspec": {
   "display_name": "Python 3",
   "language": "python",
   "name": "python3"
  },
  "language_info": {
   "codemirror_mode": {
    "name": "ipython",
    "version": 3
   },
   "file_extension": ".py",
   "mimetype": "text/x-python",
   "name": "python",
   "nbconvert_exporter": "python",
   "pygments_lexer": "ipython3",
   "version": "3.6.7"
  }
 },
 "nbformat": 4,
 "nbformat_minor": 2
}
